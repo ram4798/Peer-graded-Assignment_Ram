{
  "metadata": {
    "kernelspec": {
      "name": "xeus-python",
      "display_name": "Python (XPython)",
      "language": "python"
    },
    "language_info": {
      "file_extension": ".py",
      "mimetype": "text/x-python",
      "name": "python",
      "version": "3.10.2"
    }
  },
  "nbformat_minor": 4,
  "nbformat": 4,
  "cells": [
    {
      "cell_type": "markdown",
      "source": "# Data Science Tools and Ecosystem Summary\n\nIn this notebook, we will explore and summarize the essential tools and ecosystem components in the field of data science. Gain insights into the key elements that form the foundation of data science practices and discover the diverse set of tools that contribute to a robust data science ecosystem.\n\n# Data Science Languages\n\nSome of the popular languages that Data Scientists use are:\n\n1. **Python**: Widely acclaimed for its versatility, Python is a dominant language in the data science domain, offering a rich ecosystem of libraries and frameworks like NumPy, Pandas, and TensorFlow.\n\n2. **R**: Specifically designed for statistical computing and graphics, R is favored for its statistical analysis capabilities and visualization tools, making it a prominent choice among statisticians and data scientists.\n\n3. **SQL**: While not a traditional programming language, SQL (Structured Query Language) is indispensable for data scientists to interact with and manipulate databases, facilitating efficient data retrieval and manipulation.\n\n4. **Julia**: Emerging as a powerful language for high-performance numerical and scientific computing, Julia is gaining popularity for its speed and ease of use in data science tasks.\n\n5. **Scala**: Known for its compatibility with Apache Spark, Scala is chosen for scalable and distributed data processing, making it a valuable language in big data analytics.\n\n# Data Science Libraries\n\nSome of the commonly used libraries used by Data Scientists include:\n\n1. **NumPy**: A fundamental library for numerical computing in Python, NumPy provides support for large, multi-dimensional arrays and matrices, along with mathematical functions to operate on these arrays.\n\n2. **Pandas**: Built on top of NumPy, Pandas offers data structures like DataFrames that simplify data manipulation and analysis tasks. It is particularly effective for cleaning, transforming, and analyzing structured data.\n\n3. **Scikit-learn**: A versatile machine learning library for Python, Scikit-learn provides simple and efficient tools for data mining and data analysis. It includes a wide range of machine learning algorithms and utilities for tasks such as classification, regression, clustering, and more.\n\n4. **TensorFlow**: Developed by Google, TensorFlow is an open-source machine learning framework widely used for deep learning applications. It allows for building and training neural networks for various tasks such as image recognition and natural language processing.\n\n5. **Matplotlib**: A popular plotting library in Python, Matplotlib is essential for creating static, animated, and interactive visualizations in data science. It provides a wide range of customizable plots and charts.\n\n6. **Seaborn**: Built on top of Matplotlib, Seaborn is a statistical data visualization library that simplifies the creation of informative and attractive visualizations. It is particularly effective for exploring relationships in complex datasets.\n\n# Data Science Tools\n\n| Data Science Tools          |\n|-----------------------------|\n| Jupyter Notebooks           |\n| RStudio                     |\n| VSCode with Python extension|\n                                                                                                                                                                                                                               \n### Arithmetic Expression Examples\n\nBelow are a few examples of evaluating arithmetic expressions in Python.\n                                                                                                                                                                                                                               \n\n",
      "metadata": {}
    },
    {
      "cell_type": "code",
      "source": "# This is a simple arithmetic expression to multiply then add integers.\nresult = (3 * 4) + 5\nresult",
      "metadata": {
        "trusted": true
      },
      "outputs": [
        {
          "execution_count": 6,
          "output_type": "execute_result",
          "data": {
            "text/plain": "17"
          },
          "metadata": {}
        }
      ],
      "execution_count": 6
    },
    {
      "cell_type": "code",
      "source": "# This will convert 200 minutes to hours by dividing by 60.\nminutes = 200\nhours = minutes / 60\nhours",
      "metadata": {
        "trusted": true
      },
      "outputs": [
        {
          "execution_count": 7,
          "output_type": "execute_result",
          "data": {
            "text/plain": "3.3333333333333335"
          },
          "metadata": {}
        }
      ],
      "execution_count": 7
    },
    {
      "cell_type": "markdown",
      "source": "**Objectives:**\n\n- Explore and summarize the essential tools and ecosystem components in data science.\n- List and understand popular programming languages utilized by Data Scientists.\n- Identify key libraries commonly used in data science tasks.\n- Showcase notable development environment tools for data science.\n- Demonstrate the evaluation of arithmetic expressions and basic mathematical operations in Python.",
      "metadata": {}
    },
    {
      "cell_type": "markdown",
      "source": "## Author\n\nRama Rayudu Gangumalla",
      "metadata": {}
    },
    {
      "cell_type": "code",
      "source": "",
      "metadata": {
        "trusted": true
      },
      "outputs": [],
      "execution_count": null
    }
  ]
}